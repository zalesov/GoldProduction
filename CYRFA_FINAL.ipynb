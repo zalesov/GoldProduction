{
 "cells": [
  {
   "cell_type": "markdown",
   "metadata": {
    "toc": true
   },
   "source": [
    "<h1>Содержание<span class=\"tocSkip\"></span></h1>\n",
    "<div class=\"toc\"><ul class=\"toc-item\"><li><span><a href=\"#-Комментарий-студента\" data-toc-modified-id=\"-Комментарий-студента-1\"><span class=\"toc-item-num\">1&nbsp;&nbsp;</span> Комментарий студента</a></span><ul class=\"toc-item\"><li><span><a href=\"#Общее-впечатление-(ревью-2)\" data-toc-modified-id=\"Общее-впечатление-(ревью-2)-1.1\"><span class=\"toc-item-num\">1.1&nbsp;&nbsp;</span><font color=\"orange\">Общее впечатление (ревью 2)</font></a></span></li><li><span><a href=\"#Общее-впечатление-(ревью-3)\" data-toc-modified-id=\"Общее-впечатление-(ревью-3)-1.2\"><span class=\"toc-item-num\">1.2&nbsp;&nbsp;</span><font color=\"orange\">Общее впечатление (ревью 3)</font></a></span></li><li><span><a href=\"#Описание-данных\" data-toc-modified-id=\"Описание-данных-1.3\"><span class=\"toc-item-num\">1.3&nbsp;&nbsp;</span>Описание данных</a></span><ul class=\"toc-item\"><li><span><a href=\"#Технологический-процесс\" data-toc-modified-id=\"Технологический-процесс-1.3.1\"><span class=\"toc-item-num\">1.3.1&nbsp;&nbsp;</span>Технологический процесс</a></span></li><li><span><a href=\"#Наименование-признаков\" data-toc-modified-id=\"Наименование-признаков-1.3.2\"><span class=\"toc-item-num\">1.3.2&nbsp;&nbsp;</span>Наименование признаков</a></span></li></ul></li></ul></li><li><span><a href=\"#-Комментарий-студента\" data-toc-modified-id=\"-Комментарий-студента-2\"><span class=\"toc-item-num\">2&nbsp;&nbsp;</span> Комментарий студента</a></span><ul class=\"toc-item\"><li><span><a href=\"#Предварительный-анализ\" data-toc-modified-id=\"Предварительный-анализ-2.1\"><span class=\"toc-item-num\">2.1&nbsp;&nbsp;</span>Предварительный анализ</a></span><ul class=\"toc-item\"><li><span><a href=\"#Проверим,-что-эффективность-обогащения-рассчитана-правильно:\" data-toc-modified-id=\"Проверим,-что-эффективность-обогащения-рассчитана-правильно:-2.1.1\"><span class=\"toc-item-num\">2.1.1&nbsp;&nbsp;</span>Проверим, что эффективность обогащения рассчитана правильно:</a></span></li></ul></li><li><span><a href=\"#Анализ-пропущенных-столюцов-тестовой-выборки:\" data-toc-modified-id=\"Анализ-пропущенных-столюцов-тестовой-выборки:-2.2\"><span class=\"toc-item-num\">2.2&nbsp;&nbsp;</span>Анализ пропущенных столюцов тестовой выборки:</a></span><ul class=\"toc-item\"><li><span><a href=\"#Найдем-количество-и-сами-пропущенные-столбцы:\" data-toc-modified-id=\"Найдем-количество-и-сами-пропущенные-столбцы:-2.2.1\"><span class=\"toc-item-num\">2.2.1&nbsp;&nbsp;</span>Найдем количество и сами пропущенные столбцы:</a></span></li></ul></li><li><span><a href=\"#Предобработка-данных\" data-toc-modified-id=\"Предобработка-данных-2.3\"><span class=\"toc-item-num\">2.3&nbsp;&nbsp;</span>Предобработка данных</a></span></li><li><span><a href=\"#Вывод\" data-toc-modified-id=\"Вывод-2.4\"><span class=\"toc-item-num\">2.4&nbsp;&nbsp;</span>Вывод</a></span></li></ul></li><li><span><a href=\"#-Комментарий-студента\" data-toc-modified-id=\"-Комментарий-студента-3\"><span class=\"toc-item-num\">3&nbsp;&nbsp;</span> Комментарий студента</a></span></li><li><span><a href=\"#-Комментарий-студента-V2\" data-toc-modified-id=\"-Комментарий-студента-V2-4\"><span class=\"toc-item-num\">4&nbsp;&nbsp;</span> Комментарий студента V2</a></span></li><li><span><a href=\"#Анализ-данных\" data-toc-modified-id=\"Анализ-данных-5\"><span class=\"toc-item-num\">5&nbsp;&nbsp;</span>Анализ данных</a></span><ul class=\"toc-item\"><li><ul class=\"toc-item\"><li><span><a href=\"#Посмотрим,-как-меняется-концентрация-металлов-(Au,-Ag,-Pb)-на-различных-этапах-очистки\" data-toc-modified-id=\"Посмотрим,-как-меняется-концентрация-металлов-(Au,-Ag,-Pb)-на-различных-этапах-очистки-5.0.1\"><span class=\"toc-item-num\">5.0.1&nbsp;&nbsp;</span>Посмотрим, как меняется концентрация металлов (Au, Ag, Pb) на различных этапах очистки</a></span></li></ul></li></ul></li><li><span><a href=\"#-Комментарий-студента\" data-toc-modified-id=\"-Комментарий-студента-6\"><span class=\"toc-item-num\">6&nbsp;&nbsp;</span> Комментарий студента</a></span><ul class=\"toc-item\"><li><ul class=\"toc-item\"><li><span><a href=\"#Сравним-распределения-размеров-гранул-сырья-на-обучающей-и-тестовой-выборках:\" data-toc-modified-id=\"Сравним-распределения-размеров-гранул-сырья-на-обучающей-и-тестовой-выборках:-6.0.1\"><span class=\"toc-item-num\">6.0.1&nbsp;&nbsp;</span>Сравним распределения размеров гранул сырья на обучающей и тестовой выборках:</a></span></li><li><span><a href=\"#Вывод\" data-toc-modified-id=\"Вывод-6.0.2\"><span class=\"toc-item-num\">6.0.2&nbsp;&nbsp;</span>Вывод</a></span></li></ul></li><li><span><a href=\"#Вывод\" data-toc-modified-id=\"Вывод-6.1\"><span class=\"toc-item-num\">6.1&nbsp;&nbsp;</span>Вывод</a></span></li></ul></li><li><span><a href=\"#Исследуем-суммарную-концентрацию-всех-веществ-на-разных-стадиях:-в-сырье,-в-черновом-и-финальном-концентратах.\" data-toc-modified-id=\"Исследуем-суммарную-концентрацию-всех-веществ-на-разных-стадиях:-в-сырье,-в-черновом-и-финальном-концентратах.-7\"><span class=\"toc-item-num\">7&nbsp;&nbsp;</span>Исследуем суммарную концентрацию всех веществ на разных стадиях: в сырье, в черновом и финальном концентратах.</a></span><ul class=\"toc-item\"><li><span><a href=\"#Вывод\" data-toc-modified-id=\"Вывод-7.1\"><span class=\"toc-item-num\">7.1&nbsp;&nbsp;</span>Вывод</a></span></li></ul></li><li><span><a href=\"#Модель\" data-toc-modified-id=\"Модель-8\"><span class=\"toc-item-num\">8&nbsp;&nbsp;</span>Модель</a></span><ul class=\"toc-item\"><li><ul class=\"toc-item\"><li><span><a href=\"#Напишием-функцию-для-вычисления-итоговой-sMAPE.\" data-toc-modified-id=\"Напишием-функцию-для-вычисления-итоговой-sMAPE.-8.0.1\"><span class=\"toc-item-num\">8.0.1&nbsp;&nbsp;</span>Напишием функцию для вычисления итоговой sMAPE.</a></span></li></ul></li></ul></li><li><span><a href=\"#-Комментарий-студента\" data-toc-modified-id=\"-Комментарий-студента-9\"><span class=\"toc-item-num\">9&nbsp;&nbsp;</span> Комментарий студента</a></span><ul class=\"toc-item\"><li><span><a href=\"#Вывод\" data-toc-modified-id=\"Вывод-9.1\"><span class=\"toc-item-num\">9.1&nbsp;&nbsp;</span>Вывод</a></span></li></ul></li><li><span><a href=\"#Общий-вывод\" data-toc-modified-id=\"Общий-вывод-10\"><span class=\"toc-item-num\">10&nbsp;&nbsp;</span>Общий вывод</a></span></li><li><span><a href=\"#Чек-лист-готовности-проекта\" data-toc-modified-id=\"Чек-лист-готовности-проекта-11\"><span class=\"toc-item-num\">11&nbsp;&nbsp;</span>Чек-лист готовности проекта</a></span><ul class=\"toc-item\"><li><span><a href=\"#Общее-впечатление\" data-toc-modified-id=\"Общее-впечатление-11.1\"><span class=\"toc-item-num\">11.1&nbsp;&nbsp;</span><font color=\"orange\">Общее впечатление</font></a></span></li></ul></li></ul></div>"
   ]
  },
  {
   "cell_type": "markdown",
   "metadata": {},
   "source": [
    "<div class=\"alert alert-info\">\n",
    "<h2> Комментарий студента</h2>\n",
    "Вопрос про join\n",
    "\n",
    "</div>\n",
    "\n",
    "\n",
    "<font color='blue'></font> "
   ]
  },
  {
   "cell_type": "markdown",
   "metadata": {},
   "source": [
    "### <font color='orange'>Общее впечатление (ревью 2)</font>\n",
    "* Для удобства все новые комментарии обозначены фразой \"ревью 2\".\n",
    "* Удачи в доработке!"
   ]
  },
  {
   "cell_type": "markdown",
   "metadata": {},
   "source": [
    "### <font color='orange'>Общее впечатление (ревью 3)</font>\n",
    "* После исправлений проект улучшился и теперь он может быть зачтен.\n",
    "* Удачи в дальнейшем обучении и следующих работах!"
   ]
  },
  {
   "cell_type": "markdown",
   "metadata": {
    "toc": true
   },
   "source": [
    "<h1>Содержание<span class=\"tocSkip\"></span></h1>\n",
    "<div class=\"toc\"><ul class=\"toc-item\"><li><ul class=\"toc-item\"><li><span><a href=\"#Общее-впечатление\" data-toc-modified-id=\"Общее-впечатление-0.1\"><span class=\"toc-item-num\">0.1&nbsp;&nbsp;</span><font color=\"orange\">Общее впечатление</font></a></span></li></ul></li><li><span><a href=\"#-Комментарий-студента\" data-toc-modified-id=\"-Комментарий-студента-1\"><span class=\"toc-item-num\">1&nbsp;&nbsp;</span> Комментарий студента</a></span><ul class=\"toc-item\"><li><span><a href=\"#Общее-впечатление-(ревью-2)\" data-toc-modified-id=\"Общее-впечатление-(ревью-2)-1.1\"><span class=\"toc-item-num\">1.1&nbsp;&nbsp;</span><font color=\"orange\">Общее впечатление (ревью 2)</font></a></span></li><li><span><a href=\"#Описание-данных\" data-toc-modified-id=\"Описание-данных-1.2\"><span class=\"toc-item-num\">1.2&nbsp;&nbsp;</span>Описание данных</a></span><ul class=\"toc-item\"><li><span><a href=\"#Технологический-процесс\" data-toc-modified-id=\"Технологический-процесс-1.2.1\"><span class=\"toc-item-num\">1.2.1&nbsp;&nbsp;</span>Технологический процесс</a></span></li><li><span><a href=\"#Наименование-признаков\" data-toc-modified-id=\"Наименование-признаков-1.2.2\"><span class=\"toc-item-num\">1.2.2&nbsp;&nbsp;</span>Наименование признаков</a></span></li></ul></li></ul></li><li><span><a href=\"#-Комментарий-студента\" data-toc-modified-id=\"-Комментарий-студента-2\"><span class=\"toc-item-num\">2&nbsp;&nbsp;</span> Комментарий студента</a></span><ul class=\"toc-item\"><li><span><a href=\"#Предварительный-анализ\" data-toc-modified-id=\"Предварительный-анализ-2.1\"><span class=\"toc-item-num\">2.1&nbsp;&nbsp;</span>Предварительный анализ</a></span><ul class=\"toc-item\"><li><span><a href=\"#Проверим,-что-эффективность-обогащения-рассчитана-правильно:\" data-toc-modified-id=\"Проверим,-что-эффективность-обогащения-рассчитана-правильно:-2.1.1\"><span class=\"toc-item-num\">2.1.1&nbsp;&nbsp;</span>Проверим, что эффективность обогащения рассчитана правильно:</a></span></li></ul></li><li><span><a href=\"#Анализ-пропущенных-столюцов-тестовой-выборки:\" data-toc-modified-id=\"Анализ-пропущенных-столюцов-тестовой-выборки:-2.2\"><span class=\"toc-item-num\">2.2&nbsp;&nbsp;</span>Анализ пропущенных столюцов тестовой выборки:</a></span><ul class=\"toc-item\"><li><span><a href=\"#Найдем-количество-и-сами-пропущенные-столбцы:\" data-toc-modified-id=\"Найдем-количество-и-сами-пропущенные-столбцы:-2.2.1\"><span class=\"toc-item-num\">2.2.1&nbsp;&nbsp;</span>Найдем количество и сами пропущенные столбцы:</a></span></li></ul></li><li><span><a href=\"#Предобработка-данных\" data-toc-modified-id=\"Предобработка-данных-2.3\"><span class=\"toc-item-num\">2.3&nbsp;&nbsp;</span>Предобработка данных</a></span></li><li><span><a href=\"#Вывод\" data-toc-modified-id=\"Вывод-2.4\"><span class=\"toc-item-num\">2.4&nbsp;&nbsp;</span>Вывод</a></span></li></ul></li><li><span><a href=\"#-Комментарий-студента\" data-toc-modified-id=\"-Комментарий-студента-3\"><span class=\"toc-item-num\">3&nbsp;&nbsp;</span> Комментарий студента</a></span></li><li><span><a href=\"#Анализ-данных\" data-toc-modified-id=\"Анализ-данных-4\"><span class=\"toc-item-num\">4&nbsp;&nbsp;</span>Анализ данных</a></span><ul class=\"toc-item\"><li><ul class=\"toc-item\"><li><span><a href=\"#Посмотрим,-как-меняется-концентрация-металлов-(Au,-Ag,-Pb)-на-различных-этапах-очистки\" data-toc-modified-id=\"Посмотрим,-как-меняется-концентрация-металлов-(Au,-Ag,-Pb)-на-различных-этапах-очистки-4.0.1\"><span class=\"toc-item-num\">4.0.1&nbsp;&nbsp;</span>Посмотрим, как меняется концентрация металлов (Au, Ag, Pb) на различных этапах очистки</a></span></li></ul></li></ul></li><li><span><a href=\"#-Комментарий-студента\" data-toc-modified-id=\"-Комментарий-студента-5\"><span class=\"toc-item-num\">5&nbsp;&nbsp;</span> Комментарий студента</a></span><ul class=\"toc-item\"><li><ul class=\"toc-item\"><li><span><a href=\"#Сравним-распределения-размеров-гранул-сырья-на-обучающей-и-тестовой-выборках:\" data-toc-modified-id=\"Сравним-распределения-размеров-гранул-сырья-на-обучающей-и-тестовой-выборках:-5.0.1\"><span class=\"toc-item-num\">5.0.1&nbsp;&nbsp;</span>Сравним распределения размеров гранул сырья на обучающей и тестовой выборках:</a></span></li><li><span><a href=\"#Вывод\" data-toc-modified-id=\"Вывод-5.0.2\"><span class=\"toc-item-num\">5.0.2&nbsp;&nbsp;</span>Вывод</a></span></li></ul></li><li><span><a href=\"#Вывод\" data-toc-modified-id=\"Вывод-5.1\"><span class=\"toc-item-num\">5.1&nbsp;&nbsp;</span>Вывод</a></span></li></ul></li><li><span><a href=\"#Исследуем-суммарную-концентрацию-всех-веществ-на-разных-стадиях:-в-сырье,-в-черновом-и-финальном-концентратах.\" data-toc-modified-id=\"Исследуем-суммарную-концентрацию-всех-веществ-на-разных-стадиях:-в-сырье,-в-черновом-и-финальном-концентратах.-6\"><span class=\"toc-item-num\">6&nbsp;&nbsp;</span>Исследуем суммарную концентрацию всех веществ на разных стадиях: в сырье, в черновом и финальном концентратах.</a></span><ul class=\"toc-item\"><li><span><a href=\"#Вывод\" data-toc-modified-id=\"Вывод-6.1\"><span class=\"toc-item-num\">6.1&nbsp;&nbsp;</span>Вывод</a></span></li></ul></li><li><span><a href=\"#Модель\" data-toc-modified-id=\"Модель-7\"><span class=\"toc-item-num\">7&nbsp;&nbsp;</span>Модель</a></span><ul class=\"toc-item\"><li><ul class=\"toc-item\"><li><span><a href=\"#Напишием-функцию-для-вычисления-итоговой-sMAPE.\" data-toc-modified-id=\"Напишием-функцию-для-вычисления-итоговой-sMAPE.-7.0.1\"><span class=\"toc-item-num\">7.0.1&nbsp;&nbsp;</span>Напишием функцию для вычисления итоговой sMAPE.</a></span></li></ul></li></ul></li><li><span><a href=\"#-Комментарий-студента\" data-toc-modified-id=\"-Комментарий-студента-8\"><span class=\"toc-item-num\">8&nbsp;&nbsp;</span> Комментарий студента</a></span><ul class=\"toc-item\"><li><span><a href=\"#Вывод\" data-toc-modified-id=\"Вывод-8.1\"><span class=\"toc-item-num\">8.1&nbsp;&nbsp;</span>Вывод</a></span></li></ul></li><li><span><a href=\"#Общий-вывод\" data-toc-modified-id=\"Общий-вывод-9\"><span class=\"toc-item-num\">9&nbsp;&nbsp;</span>Общий вывод</a></span></li><li><span><a href=\"#Чек-лист-готовности-проекта\" data-toc-modified-id=\"Чек-лист-готовности-проекта-10\"><span class=\"toc-item-num\">10&nbsp;&nbsp;</span>Чек-лист готовности проекта</a></span></li></ul></div>"
   ]
  },
  {
   "cell_type": "markdown",
   "metadata": {},
   "source": [
    "# Восстановление золота из руды"
   ]
  },
  {
   "cell_type": "markdown",
   "metadata": {},
   "source": [
    "Подготовьте прототип модели машинного обучения для «Цифры». Компания разрабатывает решения для эффективной работы промышленных предприятий.\n",
    "\n",
    "Модель должна предсказать коэффициент восстановления золота из золотосодержащей руды. Используйте данные с параметрами добычи и очистки. \n",
    "\n",
    "Модель поможет оптимизировать производство, чтобы не запускать предприятие с убыточными характеристиками."
   ]
  },
  {
   "cell_type": "markdown",
   "metadata": {},
   "source": [
    "### Описание данных  \n",
    "#### Технологический процесс  \n",
    "* \t\tRougher feed — исходное сырье\n",
    "* \t\tRougher additions (или reagent additions) — флотационные реагенты: Xanthate, Sulphate, Depressant\n",
    "    * \t\tXanthate **— ксантогенат (промотер, или активатор флотации);\n",
    "    * \t\tSulphate — сульфат (на данном производстве сульфид натрия);\n",
    "    * \t\tDepressant — депрессант (силикат натрия).\n",
    "* \t\tRougher process (англ. «грубый процесс») — флотация\n",
    "* \t\tRougher tails — отвальные хвосты\n",
    "* \t\tFloat banks — флотационная установка\n",
    "* \t\tCleaner process — очистка\n",
    "* \t\tRougher Au — черновой концентрат золота\n",
    "* \t\tFinal Au — финальный концентрат золота\n",
    "Параметры этапов  \n",
    "* \t\tair amount — объём воздуха\n",
    "* \t\tfluid levels — уровень жидкости\n",
    "* \t\tfeed size — размер гранул сырья\n",
    "* \t\tfeed rate — скорость подачи\n",
    "\n",
    "\n",
    "#### Наименование признаков   \n",
    "\n",
    "\n",
    "Наименование признаков должно быть такое:  \n",
    "[этап].[тип_параметра].[название_параметра]  \n",
    "Пример: rougher.input.feed_ag  \n",
    "Возможные значения для блока [этап]:  \n",
    "* \t\trougher — флотация\n",
    "* \t\tprimary_cleaner — первичная очистка\n",
    "* \t\tsecondary_cleaner — вторичная очистка\n",
    "* \t\tfinal — финальные характеристики\n",
    "Возможные значения для блока [тип_параметра]:\n",
    "* \t\tinput — параметры сырья\n",
    "* \t\toutput — параметры продукта\n",
    "* \t\tstate — параметры, характеризующие текущее состояние этапа\n",
    "* \t\tcalculation — расчётные характеристики\n",
    "\n",
    "\n",
    "Данные индексируются датой и временем получения информации (признак date). Соседние по времени параметры часто похожи.  \n",
    "Некоторые параметры недоступны, потому что замеряются и/или рассчитываются значительно позже. Из-за этого в тестовой выборке отсутствуют некоторые признаки, которые могут быть в обучающей. Также в тестовом наборе нет целевых признаков.  \n",
    "Исходный датасет содержит обучающую и тестовую выборки со всеми признаками.  \n",
    "\n"
   ]
  },
  {
   "cell_type": "markdown",
   "metadata": {},
   "source": [
    "<div class=\"alert alert-block alert-info\">\n",
    "<b>Совет: </b> Желательно чтобы все импорты были собраны в первой ячейке ноутбука! Если у того, кто будет запускать твой ноутбук будут отсутствовать некоторые библиотеки, то он это увидит сразу, а не в процессе!\n",
    "</div>"
   ]
  },
  {
   "cell_type": "markdown",
   "metadata": {},
   "source": [
    "<div class=\"alert alert-info\">\n",
    "<h2> Комментарий студента</h2>\n",
    "Спасибо! Один ревьюер сказал прямо противоположное, но мне тоже кажется, что так нагляднее. \n",
    "\n",
    "</div>\n",
    "\n",
    "\n",
    "<font color='blue'></font> "
   ]
  },
  {
   "cell_type": "markdown",
   "metadata": {},
   "source": [
    "<div class=\"alert alert-block alert-info\">\n",
    "<b>Совет (ревью 2): </b> Тут нет единого подхода, делай как тебе удобнее.\n",
    "</div>"
   ]
  },
  {
   "cell_type": "code",
   "execution_count": 1,
   "metadata": {},
   "outputs": [
    {
     "ename": "FileNotFoundError",
     "evalue": "[Errno 2] No such file or directory: '/datasets/gold_recovery_train_new.csv'",
     "output_type": "error",
     "traceback": [
      "\u001b[0;31m---------------------------------------------------------------------------\u001b[0m",
      "\u001b[0;31mFileNotFoundError\u001b[0m                         Traceback (most recent call last)",
      "\u001b[0;32m<ipython-input-1-9fe330bed3b8>\u001b[0m in \u001b[0;36m<module>\u001b[0;34m\u001b[0m\n\u001b[1;32m      1\u001b[0m \u001b[0;32mimport\u001b[0m \u001b[0mpandas\u001b[0m \u001b[0;32mas\u001b[0m \u001b[0mpd\u001b[0m\u001b[0;34m\u001b[0m\u001b[0;34m\u001b[0m\u001b[0m\n\u001b[1;32m      2\u001b[0m \u001b[0;34m\u001b[0m\u001b[0m\n\u001b[0;32m----> 3\u001b[0;31m \u001b[0mtrain\u001b[0m \u001b[0;34m=\u001b[0m \u001b[0mpd\u001b[0m\u001b[0;34m.\u001b[0m\u001b[0mread_csv\u001b[0m\u001b[0;34m(\u001b[0m\u001b[0;34m'/datasets/gold_recovery_train_new.csv'\u001b[0m\u001b[0;34m)\u001b[0m\u001b[0;34m\u001b[0m\u001b[0;34m\u001b[0m\u001b[0m\n\u001b[0m\u001b[1;32m      4\u001b[0m \u001b[0mfull\u001b[0m  \u001b[0;34m=\u001b[0m \u001b[0mpd\u001b[0m\u001b[0;34m.\u001b[0m\u001b[0mread_csv\u001b[0m\u001b[0;34m(\u001b[0m\u001b[0;34m'/datasets/gold_recovery_full_new.csv'\u001b[0m\u001b[0;34m)\u001b[0m\u001b[0;34m\u001b[0m\u001b[0;34m\u001b[0m\u001b[0m\n\u001b[1;32m      5\u001b[0m \u001b[0mtest\u001b[0m \u001b[0;34m=\u001b[0m \u001b[0mpd\u001b[0m\u001b[0;34m.\u001b[0m\u001b[0mread_csv\u001b[0m\u001b[0;34m(\u001b[0m\u001b[0;34m'/datasets/gold_recovery_test_new.csv'\u001b[0m\u001b[0;34m)\u001b[0m\u001b[0;34m\u001b[0m\u001b[0;34m\u001b[0m\u001b[0m\n",
      "\u001b[0;32m~/opt/anaconda3/lib/python3.8/site-packages/pandas/io/parsers.py\u001b[0m in \u001b[0;36mread_csv\u001b[0;34m(filepath_or_buffer, sep, delimiter, header, names, index_col, usecols, squeeze, prefix, mangle_dupe_cols, dtype, engine, converters, true_values, false_values, skipinitialspace, skiprows, skipfooter, nrows, na_values, keep_default_na, na_filter, verbose, skip_blank_lines, parse_dates, infer_datetime_format, keep_date_col, date_parser, dayfirst, cache_dates, iterator, chunksize, compression, thousands, decimal, lineterminator, quotechar, quoting, doublequote, escapechar, comment, encoding, dialect, error_bad_lines, warn_bad_lines, delim_whitespace, low_memory, memory_map, float_precision)\u001b[0m\n\u001b[1;32m    684\u001b[0m     )\n\u001b[1;32m    685\u001b[0m \u001b[0;34m\u001b[0m\u001b[0m\n\u001b[0;32m--> 686\u001b[0;31m     \u001b[0;32mreturn\u001b[0m \u001b[0m_read\u001b[0m\u001b[0;34m(\u001b[0m\u001b[0mfilepath_or_buffer\u001b[0m\u001b[0;34m,\u001b[0m \u001b[0mkwds\u001b[0m\u001b[0;34m)\u001b[0m\u001b[0;34m\u001b[0m\u001b[0;34m\u001b[0m\u001b[0m\n\u001b[0m\u001b[1;32m    687\u001b[0m \u001b[0;34m\u001b[0m\u001b[0m\n\u001b[1;32m    688\u001b[0m \u001b[0;34m\u001b[0m\u001b[0m\n",
      "\u001b[0;32m~/opt/anaconda3/lib/python3.8/site-packages/pandas/io/parsers.py\u001b[0m in \u001b[0;36m_read\u001b[0;34m(filepath_or_buffer, kwds)\u001b[0m\n\u001b[1;32m    450\u001b[0m \u001b[0;34m\u001b[0m\u001b[0m\n\u001b[1;32m    451\u001b[0m     \u001b[0;31m# Create the parser.\u001b[0m\u001b[0;34m\u001b[0m\u001b[0;34m\u001b[0m\u001b[0;34m\u001b[0m\u001b[0m\n\u001b[0;32m--> 452\u001b[0;31m     \u001b[0mparser\u001b[0m \u001b[0;34m=\u001b[0m \u001b[0mTextFileReader\u001b[0m\u001b[0;34m(\u001b[0m\u001b[0mfp_or_buf\u001b[0m\u001b[0;34m,\u001b[0m \u001b[0;34m**\u001b[0m\u001b[0mkwds\u001b[0m\u001b[0;34m)\u001b[0m\u001b[0;34m\u001b[0m\u001b[0;34m\u001b[0m\u001b[0m\n\u001b[0m\u001b[1;32m    453\u001b[0m \u001b[0;34m\u001b[0m\u001b[0m\n\u001b[1;32m    454\u001b[0m     \u001b[0;32mif\u001b[0m \u001b[0mchunksize\u001b[0m \u001b[0;32mor\u001b[0m \u001b[0miterator\u001b[0m\u001b[0;34m:\u001b[0m\u001b[0;34m\u001b[0m\u001b[0;34m\u001b[0m\u001b[0m\n",
      "\u001b[0;32m~/opt/anaconda3/lib/python3.8/site-packages/pandas/io/parsers.py\u001b[0m in \u001b[0;36m__init__\u001b[0;34m(self, f, engine, **kwds)\u001b[0m\n\u001b[1;32m    944\u001b[0m             \u001b[0mself\u001b[0m\u001b[0;34m.\u001b[0m\u001b[0moptions\u001b[0m\u001b[0;34m[\u001b[0m\u001b[0;34m\"has_index_names\"\u001b[0m\u001b[0;34m]\u001b[0m \u001b[0;34m=\u001b[0m \u001b[0mkwds\u001b[0m\u001b[0;34m[\u001b[0m\u001b[0;34m\"has_index_names\"\u001b[0m\u001b[0;34m]\u001b[0m\u001b[0;34m\u001b[0m\u001b[0;34m\u001b[0m\u001b[0m\n\u001b[1;32m    945\u001b[0m \u001b[0;34m\u001b[0m\u001b[0m\n\u001b[0;32m--> 946\u001b[0;31m         \u001b[0mself\u001b[0m\u001b[0;34m.\u001b[0m\u001b[0m_make_engine\u001b[0m\u001b[0;34m(\u001b[0m\u001b[0mself\u001b[0m\u001b[0;34m.\u001b[0m\u001b[0mengine\u001b[0m\u001b[0;34m)\u001b[0m\u001b[0;34m\u001b[0m\u001b[0;34m\u001b[0m\u001b[0m\n\u001b[0m\u001b[1;32m    947\u001b[0m \u001b[0;34m\u001b[0m\u001b[0m\n\u001b[1;32m    948\u001b[0m     \u001b[0;32mdef\u001b[0m \u001b[0mclose\u001b[0m\u001b[0;34m(\u001b[0m\u001b[0mself\u001b[0m\u001b[0;34m)\u001b[0m\u001b[0;34m:\u001b[0m\u001b[0;34m\u001b[0m\u001b[0;34m\u001b[0m\u001b[0m\n",
      "\u001b[0;32m~/opt/anaconda3/lib/python3.8/site-packages/pandas/io/parsers.py\u001b[0m in \u001b[0;36m_make_engine\u001b[0;34m(self, engine)\u001b[0m\n\u001b[1;32m   1176\u001b[0m     \u001b[0;32mdef\u001b[0m \u001b[0m_make_engine\u001b[0m\u001b[0;34m(\u001b[0m\u001b[0mself\u001b[0m\u001b[0;34m,\u001b[0m \u001b[0mengine\u001b[0m\u001b[0;34m=\u001b[0m\u001b[0;34m\"c\"\u001b[0m\u001b[0;34m)\u001b[0m\u001b[0;34m:\u001b[0m\u001b[0;34m\u001b[0m\u001b[0;34m\u001b[0m\u001b[0m\n\u001b[1;32m   1177\u001b[0m         \u001b[0;32mif\u001b[0m \u001b[0mengine\u001b[0m \u001b[0;34m==\u001b[0m \u001b[0;34m\"c\"\u001b[0m\u001b[0;34m:\u001b[0m\u001b[0;34m\u001b[0m\u001b[0;34m\u001b[0m\u001b[0m\n\u001b[0;32m-> 1178\u001b[0;31m             \u001b[0mself\u001b[0m\u001b[0;34m.\u001b[0m\u001b[0m_engine\u001b[0m \u001b[0;34m=\u001b[0m \u001b[0mCParserWrapper\u001b[0m\u001b[0;34m(\u001b[0m\u001b[0mself\u001b[0m\u001b[0;34m.\u001b[0m\u001b[0mf\u001b[0m\u001b[0;34m,\u001b[0m \u001b[0;34m**\u001b[0m\u001b[0mself\u001b[0m\u001b[0;34m.\u001b[0m\u001b[0moptions\u001b[0m\u001b[0;34m)\u001b[0m\u001b[0;34m\u001b[0m\u001b[0;34m\u001b[0m\u001b[0m\n\u001b[0m\u001b[1;32m   1179\u001b[0m         \u001b[0;32melse\u001b[0m\u001b[0;34m:\u001b[0m\u001b[0;34m\u001b[0m\u001b[0;34m\u001b[0m\u001b[0m\n\u001b[1;32m   1180\u001b[0m             \u001b[0;32mif\u001b[0m \u001b[0mengine\u001b[0m \u001b[0;34m==\u001b[0m \u001b[0;34m\"python\"\u001b[0m\u001b[0;34m:\u001b[0m\u001b[0;34m\u001b[0m\u001b[0;34m\u001b[0m\u001b[0m\n",
      "\u001b[0;32m~/opt/anaconda3/lib/python3.8/site-packages/pandas/io/parsers.py\u001b[0m in \u001b[0;36m__init__\u001b[0;34m(self, src, **kwds)\u001b[0m\n\u001b[1;32m   2006\u001b[0m         \u001b[0mkwds\u001b[0m\u001b[0;34m[\u001b[0m\u001b[0;34m\"usecols\"\u001b[0m\u001b[0;34m]\u001b[0m \u001b[0;34m=\u001b[0m \u001b[0mself\u001b[0m\u001b[0;34m.\u001b[0m\u001b[0musecols\u001b[0m\u001b[0;34m\u001b[0m\u001b[0;34m\u001b[0m\u001b[0m\n\u001b[1;32m   2007\u001b[0m \u001b[0;34m\u001b[0m\u001b[0m\n\u001b[0;32m-> 2008\u001b[0;31m         \u001b[0mself\u001b[0m\u001b[0;34m.\u001b[0m\u001b[0m_reader\u001b[0m \u001b[0;34m=\u001b[0m \u001b[0mparsers\u001b[0m\u001b[0;34m.\u001b[0m\u001b[0mTextReader\u001b[0m\u001b[0;34m(\u001b[0m\u001b[0msrc\u001b[0m\u001b[0;34m,\u001b[0m \u001b[0;34m**\u001b[0m\u001b[0mkwds\u001b[0m\u001b[0;34m)\u001b[0m\u001b[0;34m\u001b[0m\u001b[0;34m\u001b[0m\u001b[0m\n\u001b[0m\u001b[1;32m   2009\u001b[0m         \u001b[0mself\u001b[0m\u001b[0;34m.\u001b[0m\u001b[0munnamed_cols\u001b[0m \u001b[0;34m=\u001b[0m \u001b[0mself\u001b[0m\u001b[0;34m.\u001b[0m\u001b[0m_reader\u001b[0m\u001b[0;34m.\u001b[0m\u001b[0munnamed_cols\u001b[0m\u001b[0;34m\u001b[0m\u001b[0;34m\u001b[0m\u001b[0m\n\u001b[1;32m   2010\u001b[0m \u001b[0;34m\u001b[0m\u001b[0m\n",
      "\u001b[0;32mpandas/_libs/parsers.pyx\u001b[0m in \u001b[0;36mpandas._libs.parsers.TextReader.__cinit__\u001b[0;34m()\u001b[0m\n",
      "\u001b[0;32mpandas/_libs/parsers.pyx\u001b[0m in \u001b[0;36mpandas._libs.parsers.TextReader._setup_parser_source\u001b[0;34m()\u001b[0m\n",
      "\u001b[0;31mFileNotFoundError\u001b[0m: [Errno 2] No such file or directory: '/datasets/gold_recovery_train_new.csv'"
     ]
    }
   ],
   "source": [
    "import pandas as pd\n",
    "\n",
    "train = pd.read_csv('/datasets/gold_recovery_train_new.csv')\n",
    "full  = pd.read_csv('/datasets/gold_recovery_full_new.csv')\n",
    "test = pd.read_csv('/datasets/gold_recovery_test_new.csv')\n",
    "\n"
   ]
  },
  {
   "cell_type": "code",
   "execution_count": null,
   "metadata": {},
   "outputs": [],
   "source": [
    "display(train.head())\n",
    "train.describe()\n"
   ]
  },
  {
   "cell_type": "code",
   "execution_count": null,
   "metadata": {},
   "outputs": [],
   "source": [
    "%time\n",
    "\n",
    "train.info()"
   ]
  },
  {
   "cell_type": "code",
   "execution_count": null,
   "metadata": {},
   "outputs": [],
   "source": [
    "display(full.head())\n",
    "full.describe()"
   ]
  },
  {
   "cell_type": "code",
   "execution_count": null,
   "metadata": {},
   "outputs": [],
   "source": [
    "full.info()"
   ]
  },
  {
   "cell_type": "code",
   "execution_count": null,
   "metadata": {
    "scrolled": false
   },
   "outputs": [],
   "source": [
    "display(test.head())\n",
    "test.describe()"
   ]
  },
  {
   "cell_type": "code",
   "execution_count": null,
   "metadata": {},
   "outputs": [],
   "source": [
    "test.info()"
   ]
  },
  {
   "cell_type": "markdown",
   "metadata": {},
   "source": [
    "<div class=\"alert alert-block alert-success\">\n",
    "<b>Успех:</b> Данные загружены корректно, первичный осмотр проведен.\n",
    "</div>"
   ]
  },
  {
   "cell_type": "markdown",
   "metadata": {},
   "source": [
    "### Предварительный анализ\n",
    "\n",
    "Предоставлено три таблицы - train, test и full (из которой состоят первые 2). В каждой есть пропуски, возможно, получится их удалить. В качестве индекса используется дата, тип данных - object. В дальнейшем для обучения модели этот столбец необходимо удалить, а при анализе - изменить тип данных или вообще придумать новый индекс. "
   ]
  },
  {
   "cell_type": "markdown",
   "metadata": {},
   "source": [
    "1.2. Проверьте, что эффективность обогащения рассчитана правильно. Вычислите её на обучающей выборке для   \n",
    "\n",
    "признака rougher.output.recovery. Найдите MAE между вашими расчётами и значением признака. Опишите выводы."
   ]
  },
  {
   "cell_type": "markdown",
   "metadata": {},
   "source": [
    "#### Проверим, что эффективность обогащения рассчитана правильно:"
   ]
  },
  {
   "cell_type": "code",
   "execution_count": null,
   "metadata": {},
   "outputs": [],
   "source": [
    "#считаем наши значения:\n",
    "\n",
    "train['rougher.output.recovery.new ']  = (train['rougher.output.concentrate_au']*\n",
    "                                          (train['rougher.input.feed_au']-train['rougher.output.tail_au']))/(train['rougher.input.feed_au']*(train['rougher.output.concentrate_au']-\n",
    "                                        train['rougher.output.tail_au']))*100\n",
    "\n",
    "\n",
    "\n"
   ]
  },
  {
   "cell_type": "code",
   "execution_count": null,
   "metadata": {},
   "outputs": [],
   "source": [
    "from sklearn.metrics import mean_absolute_error\n",
    "\n",
    "\n",
    "score = mean_absolute_error(train['rougher.output.recovery.new '],train['rougher.output.recovery'] )\n",
    "\n",
    "print('Средняя абсолютная ошиюбка между заново посчитанными значениями и предоставленными:', score)\n",
    "\n"
   ]
  },
  {
   "cell_type": "markdown",
   "metadata": {},
   "source": [
    "Значение MAE крайне мало, можно заключить, что в предоставленных данных значение train['rougher.output.recovery'] посчитано верно. "
   ]
  },
  {
   "cell_type": "markdown",
   "metadata": {},
   "source": [
    "<div class=\"alert alert-block alert-success\">\n",
    "<b>Успех:</b> Эта проверка была сделана абсолютно верно, молодец!\n",
    "</div>"
   ]
  },
  {
   "cell_type": "markdown",
   "metadata": {},
   "source": [
    "### Анализ пропущенных столюцов тестовой выборки:"
   ]
  },
  {
   "cell_type": "markdown",
   "metadata": {},
   "source": [
    "#### Найдем количество и сами пропущенные столбцы:"
   ]
  },
  {
   "cell_type": "code",
   "execution_count": null,
   "metadata": {},
   "outputs": [],
   "source": [
    "diff = set(train.columns) - set(test.columns)\n",
    "\n",
    "print('Количество пропущенных столбцов:', len(diff),'\\n')\n",
    "print(diff)"
   ]
  },
  {
   "cell_type": "markdown",
   "metadata": {},
   "source": [
    "В основном отсутствуют финальные значения (.output и .final ) производственной цепочки, а также целевые признаки: \"final.output.recovery\" и \"rougher.output.recovery\". Все столбцы типа данных \"float64\""
   ]
  },
  {
   "cell_type": "markdown",
   "metadata": {},
   "source": [
    "<div class=\"alert alert-block alert-success\">\n",
    "<b>Успех:</b> Верно.\n",
    "</div>"
   ]
  },
  {
   "cell_type": "markdown",
   "metadata": {},
   "source": [
    "### Предобработка данных\n",
    "\n",
    "Так как в таблице \"full\" содержится наиболее полная информация, займемся ею, а после и при необходимости будет изменять оставшиеся, используя измененный столбец даты, как индекс."
   ]
  },
  {
   "cell_type": "code",
   "execution_count": null,
   "metadata": {},
   "outputs": [],
   "source": [
    "#заменим тип данных в стобцах будущего индекса (даты):\n",
    "\n",
    "full['date']=pd.to_datetime(full['date'], format='%Y-%m-%dT%H:%M:%S')\n",
    "train['date']=pd.to_datetime(train['date'], format='%Y-%m-%dT%H:%M:%S')\n",
    "test['date']=pd.to_datetime(test['date'], format='%Y-%m-%dT%H:%M:%S')\n",
    "\n",
    "\n",
    "#2016-09-01 00:59:59\n",
    "\n",
    "display(full.head())\n",
    "print(type(full['date'][1]))"
   ]
  },
  {
   "cell_type": "markdown",
   "metadata": {},
   "source": [
    "Посчитаем пропуски, возможно получится удалить:"
   ]
  },
  {
   "cell_type": "code",
   "execution_count": null,
   "metadata": {},
   "outputs": [],
   "source": [
    "full.isna().sum().sort_values(ascending=False)"
   ]
  },
  {
   "cell_type": "code",
   "execution_count": null,
   "metadata": {},
   "outputs": [],
   "source": [
    "train.isna().sum().sort_values(ascending=False).head(15)"
   ]
  },
  {
   "cell_type": "code",
   "execution_count": null,
   "metadata": {},
   "outputs": [],
   "source": [
    "test.isna().sum().sort_values(ascending=False)"
   ]
  },
  {
   "cell_type": "markdown",
   "metadata": {},
   "source": [
    "Отдельно посчитаем возможные пропуски с целевыми признаками в \"train\" и \"full\" (в \"test\" их нет)  \n",
    "#final.output.recovery\" и \"rougher.output.recovery\""
   ]
  },
  {
   "cell_type": "code",
   "execution_count": null,
   "metadata": {},
   "outputs": [],
   "source": [
    "print(full['final.output.recovery'].isna().sum(), full['rougher.output.recovery'].isna().sum())"
   ]
  },
  {
   "cell_type": "code",
   "execution_count": null,
   "metadata": {},
   "outputs": [],
   "source": [
    "print(train['final.output.recovery'].isna().sum(), train['rougher.output.recovery'].isna().sum())"
   ]
  },
  {
   "cell_type": "markdown",
   "metadata": {},
   "source": [
    "Если посмотреть на столбец ['date_time_index'], то мы увидим, что строки идут хронологически друг за другом с разницей в один час. Поэтому пропущенные значения (наибольшее количество пропусков в столбце \"secondary_cleaner.output.tail_sol\" менее 10% от общего числа строк), поэтому пропущщенные значения можно заменить соседними(ближайшими непропущенными) значениями методом 'ffill'."
   ]
  },
  {
   "cell_type": "code",
   "execution_count": null,
   "metadata": {},
   "outputs": [],
   "source": [
    "full = full.fillna(method='ffill')\n",
    "train = train.fillna(method='ffill')\n",
    "test = test.fillna(method='ffill')\n",
    "\n",
    "test.isna().sum().sort_values(ascending=False)"
   ]
  },
  {
   "cell_type": "markdown",
   "metadata": {},
   "source": [
    "<div class=\"alert alert-block alert-success\">\n",
    "<b>Успех:</b> Заполнить пропуски таким образом – отличное решение в данном случае!\n",
    "</div>"
   ]
  },
  {
   "cell_type": "code",
   "execution_count": null,
   "metadata": {},
   "outputs": [],
   "source": [
    "#подготовит целевые признаки обучающей выборки:\n",
    "\n",
    "target_train_rought=train['rougher.output.recovery']\n",
    "target_train_final = train['final.output.recovery']\n",
    "target= [target_train_rought, target_train_final]\n",
    "print(target[0].shape)\n",
    "#подготовим признаки для обучающей выборки - удалим отсутствующие в \"test\" столбцы, \n",
    "#в них также входит целевой признак\n",
    "\n",
    "features_train = train.drop(diff, axis=1) \n",
    "\n",
    "\n",
    "\n",
    "\n",
    "\n",
    "\n",
    "\n",
    "\n",
    "\n",
    "\n",
    "#Вот что попробовал сделать:\n",
    "\n",
    "\n",
    "\n",
    "df_for_join = full[['final.output.recovery','rougher.output.recovery', 'date']]\n",
    "\n",
    "test_with_target = pd.merge(test, df_for_join, on='date')\n",
    "\n",
    "#print(df_for_join.info())\n",
    "\n",
    "#print(test.info())\n",
    "#проверил, что типы данных совпадают, но вылетала ошибка \n",
    "#You are trying to merge on datetime64[ns] and int64 columns. If you wish to proceed you should use pd.concat \n",
    "\n",
    "#print(test.columns)\n",
    "\n",
    "\n",
    "#test_with_target = test.join(df_for_join)\n",
    "\n",
    "\n",
    "\n",
    "\n",
    "#test_with_target = test.join(full['rougher.output.recovery'])\n",
    "#test_with_target = test_with_target.join(full['final.output.recovery'])\n",
    "\n",
    "print(test_with_target.shape)\n",
    "#сработало!\n",
    "\n",
    "target_test_rough = test_with_target['rougher.output.recovery']\n",
    "target_test_final = test_with_target['final.output.recovery']\n",
    "target_test = test_with_target[['rougher.output.recovery','final.output.recovery']]\n",
    "#print(target_test.shape)\n",
    "#print()\n",
    "#print(features_train.shape)\n",
    "#print()\n",
    "#print(target_test.shape)\n",
    "\n",
    "#(5290, 55)"
   ]
  },
  {
   "cell_type": "code",
   "execution_count": null,
   "metadata": {
    "scrolled": true
   },
   "outputs": [],
   "source": [
    "#df_for_join = full[['final.output.recovery','rougher.output.recovery', 'date']]\n",
    "#df_for_join.columns = ['final.output.recovery','rougher.output.recovery', 'date1']\n",
    "#test_with_target = test.join(full['rougher.output.recovery'], on='date')\n",
    "\n",
    "#пробовал изменить названия столбцов, но не помогает. \n",
    "#при этом, вроде ошибки при  просто 'join' не возникало"
   ]
  },
  {
   "cell_type": "markdown",
   "metadata": {},
   "source": [
    "### Вывод\n",
    "\n",
    "Данные очищены, таблица train и test приведены к одинаковому виду, выделены таблицы-признаки и таблицы с целевым признаком для обучающей и тестовой выборок."
   ]
  },
  {
   "cell_type": "markdown",
   "metadata": {},
   "source": [
    "<div class=\"alert alert-block alert-danger\">\n",
    "<b>Ошибка:</b> Соответствие между датасетами есть только по колонке date, так что join нужно проводить именно по ней.\n",
    "</div>"
   ]
  },
  {
   "cell_type": "markdown",
   "metadata": {},
   "source": [
    "<div class=\"alert alert-info\">\n",
    "<h2> Комментарий студента</h2>\n",
    "\n",
    "Но ведь данные идут в хронологическом порядке, поэтому последовательность будет сохранена? Почему-то выдетает ошибка при попыте .join(... on='date') \n",
    "#You are trying to merge on datetime64[ns] and int64 columns. If you wish to proceed you should use pd.concat\n",
    "Хотя я перепроверил, и оба столбца 'date' и в таблице \"test\" и в таблице \"df_for_join\" имеют тип 'datetime64[ns]'.\n",
    "    \n",
    "Также иногда вылетает ошибка\n",
    "#columns overlap but no suffix specified: Index(['date'], dtype='object')\n",
    "\n",
    "\n",
    "</div>\n",
    "\n",
    "\n",
    "<font color='blue'></font> "
   ]
  },
  {
   "cell_type": "markdown",
   "metadata": {},
   "source": [
    "<div class=\"alert alert-block alert-danger\">\n",
    "<b>Ошибка (ревью 2):</b> Элементы с индексом 0 в треине и в тесте – разные, а в full – один.\n",
    "    \n",
    "Для объединения можешь использовать `pd.merge(test, df_for_join, on='date')`. С join-ом видимо есть какой-то баг. В будущих версиях, наскольо я помню, этот метод запретят в пользу merge.\n",
    "</div>"
   ]
  },
  {
   "cell_type": "markdown",
   "metadata": {},
   "source": [
    "<div class=\"alert alert-info\">\n",
    "<h2> Комментарий студента V2</h2>\n",
    "Исправил! Спасибо!\n",
    "\n",
    "</div>\n",
    "\n",
    "\n",
    "<font color='blue'></font> "
   ]
  },
  {
   "cell_type": "markdown",
   "metadata": {},
   "source": [
    "## Анализ данных"
   ]
  },
  {
   "cell_type": "markdown",
   "metadata": {},
   "source": [
    "#### Посмотрим, как меняется концентрация металлов (Au, Ag, Pb) на различных этапах очистки"
   ]
  },
  {
   "cell_type": "markdown",
   "metadata": {},
   "source": [
    "Нужно исследовать значения концентрации данных металлов на каждой стадии: до обработки, после флотации, после первого этапа очистки, после второго этапа очистки. Интересующие нас столбцы степеней очистки содержат строку 'concentrate' в названии. А столбцы начала техпроцесса: 'input.feed'. Столбцы возьмем из таблицы \"full\", тк она наиболее полная."
   ]
  },
  {
   "cell_type": "markdown",
   "metadata": {},
   "source": [
    "['final.output.concentrate_ag',\n",
    " 'final.output.concentrate_pb',\n",
    " 'final.output.concentrate_au',\n",
    " 'primary_cleaner.output.concentrate_ag',\n",
    " 'primary_cleaner.output.concentrate_pb',\n",
    " 'primary_cleaner.output.concentrate_au',\n",
    " 'rougher.calculation.sulfate_to_au_concentrate',\n",
    " 'rougher.output.concentrate_ag',\n",
    " 'rougher.output.concentrate_pb',\n",
    " 'rougher.output.concentrate_au',\n",
    " 'rougher.input.feed_ag',\n",
    " 'rougher.input.feed_pb',\n",
    " 'rougher.input.feed_au']"
   ]
  },
  {
   "cell_type": "code",
   "execution_count": null,
   "metadata": {},
   "outputs": [],
   "source": [
    "columns = full.columns\n",
    "\n",
    "col_names = [i for i in columns if 'concentrate' in i] + [i for i in columns if 'rougher.input.feed' in i]"
   ]
  },
  {
   "cell_type": "code",
   "execution_count": null,
   "metadata": {},
   "outputs": [],
   "source": [
    "print(col_names)"
   ]
  },
  {
   "cell_type": "code",
   "execution_count": null,
   "metadata": {},
   "outputs": [],
   "source": [
    "#Выделяем нужные нам металлы:\n",
    "\n",
    "columns_au_ag_pb = [i for i in col_names if 'au' in i or 'ag' in i or 'pb' in i]\n",
    "print(columns_au_ag_pb)\n",
    "\n",
    "#перевернем для хронологии\n",
    "columns_au_ag_pb.reverse()\n",
    "\n",
    "print(columns_au_ag_pb)"
   ]
  },
  {
   "cell_type": "markdown",
   "metadata": {},
   "source": [
    "'rougher.calculation.sulfate_to_au_concentrate' получился лишний - нам это соотношение не нужно. "
   ]
  },
  {
   "cell_type": "code",
   "execution_count": null,
   "metadata": {},
   "outputs": [],
   "source": [
    "columns_au_ag_pb.remove('rougher.calculation.sulfate_to_au_concentrate')\n",
    "\n",
    "print(columns_au_ag_pb)\n"
   ]
  },
  {
   "cell_type": "code",
   "execution_count": null,
   "metadata": {},
   "outputs": [],
   "source": [
    "#разбиваем на металл (Au, Ag, Pb):\n",
    "\n",
    "\n",
    "columns_au = [i for i in columns_au_ag_pb if 'au' in i]\n",
    "columns_ag = [i for i in columns_au_ag_pb if 'ag' in i]\n",
    "columns_pb = [i for i in columns_au_ag_pb if 'pb' in i]\n",
    "\n",
    "print(columns_au)\n",
    "print(columns_ag)\n",
    "print(columns_pb)\n",
    "\n"
   ]
  },
  {
   "cell_type": "code",
   "execution_count": null,
   "metadata": {},
   "outputs": [],
   "source": [
    "au = full[columns_au]\n",
    "ag = full[columns_ag]\n",
    "pb = full[columns_pb]\n",
    "\n",
    "display(au.head())\n",
    "\n",
    "type(au)"
   ]
  },
  {
   "cell_type": "markdown",
   "metadata": {},
   "source": [
    "Ура!"
   ]
  },
  {
   "cell_type": "code",
   "execution_count": null,
   "metadata": {},
   "outputs": [],
   "source": [
    "from matplotlib import pyplot as plt\n",
    "from matplotlib.pyplot import figure\n",
    "\n",
    "\n",
    "def analysis_metal(data):\n",
    "    mean_values = []\n",
    "    columns = data.columns\n",
    "    for column in range(len(columns)):\n",
    "        mean = data[columns[column]].mean()\n",
    "        mean_values.append(mean)\n",
    "        data[columns[column]].hist(alpha=0.65)\n",
    "    plt.xlabel(\"Количество концентрата, у.е.\")\n",
    "    plt.ylabel(\"Частота\")\n",
    "    print('Cредние значения концентрата в техпроцессе','\\n',\n",
    "          'в хронологическом порядке:', mean_values)\n",
    "    plt.title('Распределение')\n",
    "    plt.show()\n",
    "\n"
   ]
  },
  {
   "cell_type": "code",
   "execution_count": null,
   "metadata": {},
   "outputs": [],
   "source": [
    "analysis_metal(au)"
   ]
  },
  {
   "cell_type": "markdown",
   "metadata": {},
   "source": [
    "Исходя из графика видно, что концентрат золота показывает обогащение в 5,5 раз в ходе техпроцесса. Рост есть на каждом из этапов. Так как задача по условию обогащение именно золота - фирма движется в правильном направлении. "
   ]
  },
  {
   "cell_type": "code",
   "execution_count": null,
   "metadata": {
    "scrolled": true
   },
   "outputs": [],
   "source": [
    "analysis_metal(ag)"
   ]
  },
  {
   "cell_type": "markdown",
   "metadata": {},
   "source": [
    "Количество концентрата серебра в итоге уменьшается... Стоит обратить на это внимание заказчика. \n",
    "Концентрация серебра увеличивается на этапе первичной обработки, затем снижается во время вторичной очистки, скорее всего это связано с особенностями обработки, в итоге среднее количества концентрата меньше поступившего в 1.61 раза. "
   ]
  },
  {
   "cell_type": "code",
   "execution_count": null,
   "metadata": {},
   "outputs": [],
   "source": [
    "analysis_metal(pb)"
   ]
  },
  {
   "cell_type": "markdown",
   "metadata": {},
   "source": [
    "Свинец итоговое 2,5 кратное увеличение концентрации, максимальный рост заметен на первом этапе обработки."
   ]
  },
  {
   "cell_type": "markdown",
   "metadata": {},
   "source": [
    "<div class=\"alert alert-block alert-success\">\n",
    "<b>Успех:</b> Гистограммы получились хорошо.\n",
    "</div>\n",
    "\n",
    "<div class=\"alert alert-block alert-info\">\n",
    "<b>Совет: </b> Однако, я бы увеличи количество столбивков и размер графиков.\n",
    "</div>"
   ]
  },
  {
   "cell_type": "markdown",
   "metadata": {},
   "source": [
    "<div class=\"alert alert-info\">\n",
    "<h2> Комментарий студента</h2>\n",
    "\n",
    "Спасибо, учту!\n",
    "</div>\n",
    "\n",
    "\n",
    "<font color='yellow'></font> "
   ]
  },
  {
   "cell_type": "markdown",
   "metadata": {},
   "source": [
    "#### Сравним распределения размеров гранул сырья на обучающей и тестовой выборках:"
   ]
  },
  {
   "cell_type": "code",
   "execution_count": null,
   "metadata": {},
   "outputs": [],
   "source": [
    "train_columns = train.columns\n",
    "\n",
    "size_columns = [i for i in train_columns if 'feed_size' in i]\n",
    "print(size_columns)"
   ]
  },
  {
   "cell_type": "code",
   "execution_count": null,
   "metadata": {},
   "outputs": [],
   "source": [
    "size_train = train[size_columns]\n",
    "size_test = test[size_columns]\n",
    "\n",
    "display(size_train.head())\n"
   ]
  },
  {
   "cell_type": "code",
   "execution_count": null,
   "metadata": {},
   "outputs": [],
   "source": [
    "x1 = size_test['rougher.input.feed_size'] #тестовая выборка\n",
    "x2 = size_train['rougher.input.feed_size'] #тренировочная выборка\n",
    "\n",
    "figure(figsize=(8, 6), dpi=100)\n",
    "plt.boxplot(([x1, x2]))\n",
    "plt.title('Сравнение распределения размера гранул перед 1-м этапом')\n",
    "plt.show()"
   ]
  },
  {
   "cell_type": "code",
   "execution_count": null,
   "metadata": {},
   "outputs": [],
   "source": [
    "x1 = size_test['rougher.input.feed_size'] #тестовая выборка\n",
    "x2 = size_train['rougher.input.feed_size'] #тренировочная выборка\n",
    "\n",
    "figure(figsize=(8, 6), dpi=100)\n",
    "plt.boxplot(([x1, x2]), showfliers=False)\n",
    "plt.title('Сравнение распределения размера гранул перед 1-м этапом, без выбросов')\n",
    "plt.show()"
   ]
  },
  {
   "cell_type": "markdown",
   "metadata": {},
   "source": [
    "#### Вывод\n",
    "Боксплоты данных графиков свидетельствуют, что размер граунл распределен примрерно равномерно.\n",
    "Выбросы расположились схоже, при этом в тренировочной выборке выбросы расположились выше по графику, их немного, но все же. "
   ]
  },
  {
   "cell_type": "code",
   "execution_count": null,
   "metadata": {},
   "outputs": [],
   "source": [
    "x1 = size_test['primary_cleaner.input.feed_size'] #тестовая выборка\n",
    "x2 = size_train['primary_cleaner.input.feed_size'] #тренировочная выборка\n",
    "\n",
    "figure(figsize=(8, 6), dpi=100)\n",
    "plt.boxplot(([x1, x2]))\n",
    "plt.title('Сравнение распределения размера гранул после 1-го этапа')\n",
    "plt.show()"
   ]
  },
  {
   "cell_type": "code",
   "execution_count": null,
   "metadata": {},
   "outputs": [],
   "source": [
    "x1 = size_test['primary_cleaner.input.feed_size'] #тестовая выборка\n",
    "x2 = size_train['primary_cleaner.input.feed_size'] #тренировочная выборка\n",
    "\n",
    "figure(figsize=(8, 6), dpi=100)\n",
    "plt.boxplot(([x1, x2]),  showfliers=False)\n",
    "plt.title('Сравнение распределения размера гранул после 1-го этапа, без выбросов')\n",
    "plt.show()"
   ]
  },
  {
   "cell_type": "markdown",
   "metadata": {},
   "source": [
    "### Вывод\n",
    "Здесь аналогичо, средние значения схожи, однако на тестовой выборке есть выбросы крупного размера, в то время как на тренировочной есть гранулы малого размера. \n",
    "Можно заключить, что для построения модели выборки подходят, но возможно потребуется удалить выбросы. "
   ]
  },
  {
   "cell_type": "markdown",
   "metadata": {},
   "source": [
    "<div class=\"alert alert-block alert-info\">\n",
    "<b>Совет: </b> Тут тоже лучше было бы использовать гистограммы.\n",
    "</div>"
   ]
  },
  {
   "cell_type": "markdown",
   "metadata": {},
   "source": [
    "## Исследуем суммарную концентрацию всех веществ на разных стадиях: в сырье, в черновом и финальном концентратах.\n"
   ]
  },
  {
   "cell_type": "markdown",
   "metadata": {},
   "source": [
    "Всего у нас 4 элемента: золото, серебро, свинец и sol (соль?). Стадия сырья: все элементы с rougher.input.элемент - до флотации, черновой вариант - это все rougher.output.элемент - после флотации, но до первой очистки, а финальный концентрат - уже после 2х очисток, final.output.вещество ."
   ]
  },
  {
   "cell_type": "code",
   "execution_count": null,
   "metadata": {},
   "outputs": [],
   "source": [
    "columns_all = [i for i in full.columns if 'ag' in i or 'au' in i or 'pb' in i or 'sol' in i]\n",
    "print(columns_all)\n",
    "columns_all = [i for i in columns_all if 'rougher.input' in i or 'rougher.output' in i or 'final.output' in i]\n",
    "print()\n",
    "print(columns_all)\n",
    "columns_all = [i for i in columns_all if 'tail' not in i]\n",
    "print()\n",
    "print(columns_all)"
   ]
  },
  {
   "cell_type": "code",
   "execution_count": null,
   "metadata": {},
   "outputs": [],
   "source": [
    "elements_all = full[columns_all]\n",
    "display(elements_all.head())"
   ]
  },
  {
   "cell_type": "code",
   "execution_count": null,
   "metadata": {},
   "outputs": [],
   "source": [
    "elements_all['input_all'] = elements_all['rougher.input.feed_ag']+elements_all['rougher.input.feed_pb']+elements_all['rougher.input.feed_sol']+elements_all['rougher.input.feed_au']\n",
    "elements_all['output_all'] = elements_all['rougher.output.concentrate_ag']+elements_all['rougher.output.concentrate_pb']+elements_all['rougher.output.concentrate_sol']+elements_all['rougher.output.concentrate_au']\n",
    "elements_all['final_all'] = elements_all['final.output.concentrate_ag']+elements_all['final.output.concentrate_pb']+elements_all['final.output.concentrate_sol']+elements_all['final.output.concentrate_au']\n",
    "\n",
    "display(elements_all.head())"
   ]
  },
  {
   "cell_type": "code",
   "execution_count": null,
   "metadata": {},
   "outputs": [],
   "source": [
    "x1 = elements_all['input_all'] #сырье\n",
    "x2 = elements_all['output_all'] #до обработки - черновое сырье\n",
    "x3 = elements_all['final_all'] #финальный продукт\n",
    "\n",
    "figure(figsize=(8, 6), dpi=100)\n",
    "plt.boxplot(([x1, x2, x3]))\n",
    "plt.title('Сравнение распределения концентрата всех веществ')\n",
    "plt.show()"
   ]
  },
  {
   "cell_type": "code",
   "execution_count": null,
   "metadata": {},
   "outputs": [],
   "source": [
    "x1 = elements_all['input_all'] #сырье\n",
    "x2 = elements_all['output_all'] #до обработки - черновое сырье\n",
    "x3 = elements_all['final_all'] #финальный продукт\n",
    "\n",
    "figure(figsize=(8, 6), dpi=100)\n",
    "plt.boxplot(([x1, x2, x3]),showfliers=False)\n",
    "plt.title('Сравнение распределения концентрата всех веществ')\n",
    "plt.show()"
   ]
  },
  {
   "cell_type": "markdown",
   "metadata": {},
   "source": [
    "Заметны аномалии, стоит построить гистограммы, чтобы понять границу значений, которые следует отсеять"
   ]
  },
  {
   "cell_type": "code",
   "execution_count": null,
   "metadata": {},
   "outputs": [],
   "source": [
    "plt.title('Изначальная концентрация продукта')\n",
    "x1.hist()"
   ]
  },
  {
   "cell_type": "markdown",
   "metadata": {},
   "source": [
    "Требуется отбросить значения, меньше 38"
   ]
  },
  {
   "cell_type": "code",
   "execution_count": null,
   "metadata": {},
   "outputs": [],
   "source": [
    "plt.title('Концентрация после флоктации продукта')\n",
    "x2.hist()"
   ]
  },
  {
   "cell_type": "markdown",
   "metadata": {},
   "source": [
    "Нужно отбросить значения, меньше 55"
   ]
  },
  {
   "cell_type": "code",
   "execution_count": null,
   "metadata": {},
   "outputs": [],
   "source": [
    "plt.title('Финальная концентрация продукта')\n",
    "x3.hist()"
   ]
  },
  {
   "cell_type": "markdown",
   "metadata": {},
   "source": [
    "Следует отбросить значения меньше 55"
   ]
  },
  {
   "cell_type": "code",
   "execution_count": null,
   "metadata": {},
   "outputs": [],
   "source": [
    "elements_all_cleared = elements_all.query('input_all>38 and output_all>55 and final_all>55')\n",
    "print((len(elements_all_cleared)-len(elements_all))/len(elements_all))"
   ]
  },
  {
   "cell_type": "markdown",
   "metadata": {},
   "source": [
    "Потеряли 8% строк, но удалили аномалии. "
   ]
  },
  {
   "cell_type": "code",
   "execution_count": null,
   "metadata": {},
   "outputs": [],
   "source": [
    "print(features_train.shape)\n",
    "\n",
    "full_cleared = full.query('index in @elements_all_cleared.index')\n",
    "print((len(full)-len(full_cleared))/len(full))\n"
   ]
  },
  {
   "cell_type": "code",
   "execution_count": null,
   "metadata": {},
   "outputs": [],
   "source": [
    "features_train_cleared = features_train.query('index in @elements_all_cleared.index')\n",
    "test_cleared = test.query('index in @elements_all_cleared.index')\n",
    "print(test.shape, test_cleared.shape)\n",
    "print(features_train_cleared.shape)\n",
    "print(features_train.shape)\n",
    "print(features_train.shape)\n",
    "print()\n",
    "target_test_cleared = target_test.query('index in @elements_all_cleared.index')\n",
    "print(target_test.shape)\n",
    "print(target_test_cleared.shape)\n",
    "print(test_cleared.shape)"
   ]
  },
  {
   "cell_type": "markdown",
   "metadata": {},
   "source": [
    "Потеряли много, но без аномалий. "
   ]
  },
  {
   "cell_type": "markdown",
   "metadata": {},
   "source": [
    "### Вывод\n",
    "Был проведен анализ количества концентрата везеств на каждом этапе производства, также был произведен анализ сумм всех веществ в каждом их виде(типе), были выявлены и убраны аномалии. "
   ]
  },
  {
   "cell_type": "markdown",
   "metadata": {},
   "source": [
    "<div class=\"alert alert-block alert-success\">\n",
    "<b>Успех:</b> В этом шаге все сделано верно, молодец!\n",
    "</div>"
   ]
  },
  {
   "cell_type": "markdown",
   "metadata": {},
   "source": [
    "## Модель"
   ]
  },
  {
   "cell_type": "markdown",
   "metadata": {},
   "source": [
    "#### Напишием функцию для вычисления итоговой sMAPE."
   ]
  },
  {
   "cell_type": "code",
   "execution_count": null,
   "metadata": {},
   "outputs": [],
   "source": [
    "import numpy as np\n",
    "\n",
    "def smape(true, pred):\n",
    "    \n",
    "    smape_rough = 100/len(true[:,0]) * np.sum(2 * np.abs(pred[:,0] - true[:,0]) / (np.abs(true[:,0]) + np.abs(pred[:,0])))\n",
    "    smape_final = 100/len(true[:,1]) * np.sum(2 * np.abs(pred[:,1] - true[:,1]) / (np.abs(true[:,1]) + np.abs(pred[:,1])))\n",
    "    \n",
    "    smape_final = smape_rough*0.25 + smape_final*0.75\n",
    "    \n",
    "    return smape_final\n",
    "\n",
    "\n",
    "#def sMAPE(true_rough, true_final, pred_rough, pred_final):\n",
    "    \n",
    "#    smape_rough = 100/len(true_rough) * np.sum(abs(true_rough - pred_rough) / (abs((true_rough) + abs(pred_rough))/2))\n",
    "#    smape_final = 100/len(true_final) * np.sum(abs(true_final - pred_final) / (abs((true_final) + abs(pred_final))/2))\n",
    "    \n",
    "#    result = 0.25*smape_rough + 0.75*smape_final\n",
    "    \n",
    "#    return result"
   ]
  },
  {
   "cell_type": "markdown",
   "metadata": {},
   "source": [
    "<div class=\"alert alert-block alert-success\">\n",
    "<b>Успех:</b> Радует, что ты обошелся без циклов в функции выше.\n",
    "</div>"
   ]
  },
  {
   "cell_type": "markdown",
   "metadata": {},
   "source": [
    "Разделим на выборки:"
   ]
  },
  {
   "cell_type": "code",
   "execution_count": null,
   "metadata": {},
   "outputs": [],
   "source": [
    "#подготовим целевые признаки обучающей выборки:\n",
    "\n",
    "\n",
    "print(features_train.shape)\n",
    "print(features_train_cleared.shape)\n",
    "\n",
    "\n",
    "\n",
    "features_train_cleared = features_train_cleared.drop(columns=['date'], axis=1) \n",
    "print(features_train.shape)\n",
    "\n",
    "print(features_train_cleared.shape)\n",
    "\n",
    "\n",
    "\n"
   ]
  },
  {
   "cell_type": "code",
   "execution_count": null,
   "metadata": {},
   "outputs": [],
   "source": [
    "print(test_cleared.shape)\n",
    "test_cleared_1 = test_cleared.drop(columns=['date'], axis=1) \n",
    "print(test_cleared.shape)\n"
   ]
  },
  {
   "cell_type": "markdown",
   "metadata": {},
   "source": [
    "Начинаем обучать модель"
   ]
  },
  {
   "cell_type": "code",
   "execution_count": null,
   "metadata": {},
   "outputs": [],
   "source": [
    "#создаем random_state\n",
    "\n",
    "state = np.random.RandomState(10)"
   ]
  },
  {
   "cell_type": "code",
   "execution_count": null,
   "metadata": {},
   "outputs": [],
   "source": [
    "import scipy.stats as st\n",
    "import re\n",
    "\n",
    "\n",
    "\n",
    "\n",
    "from sklearn.metrics import SCORERS, make_scorer\n",
    "from sklearn.metrics import mean_squared_error,  r2_score, roc_auc_score, roc_curve, mean_absolute_error\n",
    "from sklearn.model_selection import train_test_split, cross_validate, cross_val_score\n",
    "\n",
    "\n",
    "\n",
    "\n",
    "\n",
    "\n",
    "from sklearn.linear_model import LinearRegression\n",
    "from sklearn.ensemble import RandomForestRegressor\n"
   ]
  },
  {
   "cell_type": "code",
   "execution_count": null,
   "metadata": {},
   "outputs": [],
   "source": [
    "smape_score = make_scorer(smape, greater_is_better=False)"
   ]
  },
  {
   "cell_type": "markdown",
   "metadata": {},
   "source": [
    "<div class=\"alert alert-block alert-success\">\n",
    "<b>Успех:</b> Скорер определен правильно.\n",
    "</div>"
   ]
  },
  {
   "cell_type": "code",
   "execution_count": null,
   "metadata": {},
   "outputs": [],
   "source": [
    "#target_cleared = target.query('index in @elements_all_cleared.index')\n",
    "#target_test_rough = test_with_target['rougher.output.recovery']\n",
    "#target_test_final = test_with_target['final.output.recovery']\n",
    "\n",
    "target_train_cleared = train[['rougher.output.recovery','final.output.recovery']].query('index in @elements_all_cleared.index')\n",
    "#target_train_rought=train['rougher.output.recovery'].loc('index in @elements_all_cleared.index')\n",
    "#target_train_final = train['final.output.recovery'].query('index in @elements_all_cleared.index')\n",
    "print(target_train_cleared.shape)\n",
    "\n"
   ]
  },
  {
   "cell_type": "code",
   "execution_count": null,
   "metadata": {},
   "outputs": [],
   "source": [
    "target_train_cleared = target_train_cleared.reset_index(drop=True)\n",
    "target_train_cleared.columns = [0, 1]\n",
    "\n",
    "\n",
    "target_train_cleared = np.array(target_train_cleared)\n",
    "print(target_train_cleared.shape)"
   ]
  },
  {
   "cell_type": "code",
   "execution_count": null,
   "metadata": {},
   "outputs": [],
   "source": [
    "model_LR = LinearRegression()\n",
    "score = cross_val_score(model_LR, features_train_cleared, target_train_cleared, cv=5, scoring=smape_score)\n",
    "print(score)"
   ]
  },
  {
   "cell_type": "code",
   "execution_count": null,
   "metadata": {},
   "outputs": [],
   "source": [
    "#scores={}\n",
    "\n",
    "#for n_estimator in range(1,200):\n",
    "#    for min_samples_split in range (2,4):\n",
    "#        model_TR = RandomForestRegressor(n_estimators  = n_estimator, max_depth=None,\n",
    "#                                        min_samples_split=min_samples_split,\n",
    "#                                        min_samples_leaf=1,\n",
    "#                                        n_jobs=-1, random_state=state)\n",
    "#        res = sum(cross_val_score(model_TR, features_train_cleared, target_train_cleared ,\n",
    "#                         cv=5, scoring=smape_score)/5)\n",
    "#        scores.update({(n_estimator,n_neighbor,min_samples_split):res})\n",
    "\n",
    "\n",
    "\n"
   ]
  },
  {
   "cell_type": "markdown",
   "metadata": {},
   "source": [
    "<div class=\"alert alert-block alert-danger\">\n",
    "\n",
    "<b>Ошибка:</b> Нужно брать среднее, а не максимум. Тут подробнее про кросс-валидацию: https://codecamp.ru/blog/cross-validation-k-fold/ .\n",
    "</div>"
   ]
  },
  {
   "cell_type": "markdown",
   "metadata": {},
   "source": [
    "<div class=\"alert alert-info\">\n",
    "<h2> Комментарий студента</h2>\n",
    "Спасибо, исправил!\n",
    "\n",
    "</div>\n",
    "\n",
    "\n",
    "<font color='blue'></font> "
   ]
  },
  {
   "cell_type": "markdown",
   "metadata": {},
   "source": [
    "<div class=\"alert alert-block alert-success\">\n",
    "<b>Успех (ревью 2):</b> Верно, спасибо!\n",
    "</div>"
   ]
  },
  {
   "cell_type": "markdown",
   "metadata": {},
   "source": [
    "Закомментировал, тк очень долго будет исполняться код, лучшая модель: n_estimators=100, min_samples_split=2, min_samples_leaf=4"
   ]
  },
  {
   "cell_type": "code",
   "execution_count": null,
   "metadata": {},
   "outputs": [],
   "source": [
    "model = RandomForestRegressor(random_state=state,n_estimators=100, min_samples_split=2, min_samples_leaf=4)"
   ]
  },
  {
   "cell_type": "code",
   "execution_count": null,
   "metadata": {
    "scrolled": true
   },
   "outputs": [],
   "source": [
    "model.fit(features_train_cleared, target_train_cleared)"
   ]
  },
  {
   "cell_type": "code",
   "execution_count": null,
   "metadata": {},
   "outputs": [],
   "source": [
    "predictions = model.predict(test_cleared_1)"
   ]
  },
  {
   "cell_type": "code",
   "execution_count": null,
   "metadata": {},
   "outputs": [],
   "source": [
    "print(target_test_cleared.shape)\n",
    "print(test_cleared_1.shape)\n",
    "print(test_cleared.shape)"
   ]
  },
  {
   "cell_type": "code",
   "execution_count": null,
   "metadata": {},
   "outputs": [],
   "source": [
    "ans = smape(np.array(target_test_cleared),predictions)\n",
    "print(ans)"
   ]
  },
  {
   "cell_type": "markdown",
   "metadata": {},
   "source": [
    "### Вывод\n",
    "Выполнен подбор и тестирование моделей.\n",
    "Лучшей моделью был признан Случайный лес с параметрами\n",
    "n_neighbors=100, mas_samples_leaf=4\n",
    "На тестовой выборке удалость улучшить значение показателя sMAPE = 10.507950155173532\n"
   ]
  },
  {
   "cell_type": "markdown",
   "metadata": {},
   "source": [
    "<div class=\"alert alert-block alert-info\">\n",
    "<b>Совет: </b> В ячейке выше получено другое значение.\n",
    "</div>"
   ]
  },
  {
   "cell_type": "markdown",
   "metadata": {},
   "source": [
    "## Общий вывод\n",
    "\n",
    "Изначально предоставленне расчеты метрики sMAPE были перепроверены, данные очищены, подготовлены для анализа, далее проанализированы, были выявлены и отброшены аномалии (было потеряно около 10% данных), после этого были обучены 2 модели и, ожидаемо, лучшей оказалась модель Случайного Леса. В итоге поставленная задача по предсказанию метрики sMAPE выполнена со значением: sMAPE = 9.777336376209565\n"
   ]
  },
  {
   "cell_type": "markdown",
   "metadata": {},
   "source": [
    "<div class=\"alert alert-block alert-success\">\n",
    "<b>Успех:</b> Приятно видеть вывод в конце проекта!\n",
    "</div>"
   ]
  },
  {
   "cell_type": "markdown",
   "metadata": {},
   "source": [
    "## Чек-лист готовности проекта"
   ]
  },
  {
   "cell_type": "markdown",
   "metadata": {},
   "source": [
    "- [x]  Jupyter Notebook открыт\n",
    "- [x]  Весь код выполняется без ошибок\n",
    "- [x]  Ячейки с кодом расположены в порядке выполнения\n",
    "- [x]  Выполнен шаг 1: данные подготовлены\n",
    "    - [x]  Проверена формула вычисления эффективности обогащения\n",
    "    - [x]  Проанализированы признаки, недоступные в тестовой выборке\n",
    "    - [x]  Проведена предобработка данных\n",
    "- [x]  Выполнен шаг 2: данные проанализированы\n",
    "    - [x]  Исследовано изменение концентрации элементов на каждом этапе\n",
    "    - [x]  Проанализированы распределения размеров гранул на обучающей и тестовой выборках\n",
    "    - [x]  Исследованы суммарные концентрации\n",
    "- [x]  Выполнен шаг 3: построена модель прогнозирования\n",
    "    - [x]  Написана функция для вычисления итогового *sMAPE*\n",
    "    - [x]  Обучено и проверено несколько моделей\n",
    "    - [x]  Выбрана лучшая модель, её качество проверено на тестовой выборке"
   ]
  },
  {
   "cell_type": "code",
   "execution_count": null,
   "metadata": {},
   "outputs": [],
   "source": []
  },
  {
   "cell_type": "markdown",
   "metadata": {},
   "source": [
    "Привет, меня зовут Артем Хуршудов. Сегодня я проверю твой проект.\n",
    "<br> Дальнейшее общение будет происходить на \"ты\" если это не вызывает никаких проблем.\n",
    "<br> Желательно реагировать на каждый мой комментарий ('исправил', 'не понятно как исправить ошибку', ...)\n",
    "<br> Пожалуйста, не удаляй комментарии ревьюера, так как они повышают качество повторного ревью.\n",
    "\n",
    "Комментарии будут в <font color='green'>зеленой</font>, <font color='blue'>синей</font> или <font color='red'>красной</font> рамках:\n",
    "\n",
    "<div class=\"alert alert-block alert-success\">\n",
    "<b>Успех:</b> Если все сделано отлично\n",
    "</div>\n",
    "\n",
    "<div class=\"alert alert-block alert-info\">\n",
    "<b>Совет: </b> Если можно немного улучшить\n",
    "</div>\n",
    "\n",
    "<div class=\"alert alert-block alert-danger\">\n",
    "<b>Ошибка:</b> Если требуются исправления. Работа не может быть принята с красными комментариями.\n",
    "</div>\n",
    "\n",
    "-------------------\n",
    "\n",
    "Будет очень хорошо, если ты будешь помечать свои действия следующим образом:\n",
    "<div class=\"alert alert-block alert-warning\">\n",
    "<b>Комментарий студента:</b> ...\n",
    "</div>\n",
    "\n",
    "<div class=\"alert alert-block alert-warning\">\n",
    "<b>Изменения:</b> Были внесены следующие изменения ...\n",
    "</div>\n",
    "\n",
    "### <font color='orange'>Общее впечатление</font>\n",
    "* Большое спасибо за проделанную работу. Видно, что приложено много усилий.\n",
    "* Выводы и рассуждения получились содержательными, их было интересно читать.\n",
    "* Работа в целом и каждый шаг в отдельности сделаны хорошо.\n",
    "* Над этим проектом нужно будет еще немного поработать. Однако, изменения не должны занять много времени.\n",
    "* В работе я оставил несколько советов. Буду рад, если ты учтешь их.\n",
    "* С радостью отвечу на твои вопросы, если они есть. Лучше всего их собрать в следующей ячейке. Жду новую версию проекта."
   ]
  }
 ],
 "metadata": {
  "kernelspec": {
   "display_name": "Python 3",
   "language": "python",
   "name": "python3"
  },
  "language_info": {
   "codemirror_mode": {
    "name": "ipython",
    "version": 3
   },
   "file_extension": ".py",
   "mimetype": "text/x-python",
   "name": "python",
   "nbconvert_exporter": "python",
   "pygments_lexer": "ipython3",
   "version": "3.8.5"
  },
  "toc": {
   "base_numbering": 1,
   "nav_menu": {},
   "number_sections": true,
   "sideBar": true,
   "skip_h1_title": true,
   "title_cell": "Содержание",
   "title_sidebar": "Contents",
   "toc_cell": true,
   "toc_position": {},
   "toc_section_display": true,
   "toc_window_display": false
  }
 },
 "nbformat": 4,
 "nbformat_minor": 2
}
